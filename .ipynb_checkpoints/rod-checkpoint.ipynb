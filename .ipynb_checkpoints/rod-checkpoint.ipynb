{
 "cells": [
  {
   "cell_type": "markdown",
   "id": "f2866af3-11a2-4fe9-b5db-3a0d96c2b56a",
   "metadata": {},
   "source": [
    "**Введение**\n",
    "\n",
    "Винтовое движение, представляющее собой комбинацию вращения вокруг оси и поступательного смещения вдоль неё, находит широкое применение в робототехнике, компьютерной графике и механике. Оно позволяет компактно описывать сложные пространственные преобразования, такие как кинематику механических  систем, движение роботизированных манипуляторов, траектории частиц в анимации. Тем не менее, несмотря на свою теоретическую и практическую значимость, в открытом доступе находится незначительное количество наглядных примеров и программных реализаций, что в следствие затрудняет его практическое использование.\n",
    "\n",
    "Недостаток доступных материалов и конкретных примеров ограничивает понимание этого математического инструмента, что особенно актуально для инженеров и разработчиков, сталкивающихся с задачами точного управления движением. Целью данной работы является описание математического аппарата винтового движения, реализация наглядного вычислительного примера и сравнение эффективности двух подходов к его моделированию: параметров Родрига-Гамильтона и бикватернионов."
   ]
  },
  {
   "cell_type": "code",
   "execution_count": null,
   "id": "ca8e4e0c-1c53-4fd0-9412-e7faf7540780",
   "metadata": {},
   "outputs": [],
   "source": [
    "!pip install numpy matplotlib ipywidgets"
   ]
  },
  {
   "cell_type": "code",
   "execution_count": 1,
   "id": "07aab814-1123-4eba-802e-27c0822c9416",
   "metadata": {},
   "outputs": [],
   "source": [
    "from collections.abc import Callable\n",
    "\n",
    "import numpy as np\n",
    "import matplotlib.pyplot as plt\n",
    "from mpl_toolkits.mplot3d import Axes3D\n",
    "from ipywidgets import interact, FloatSlider, VBox, HBox"
   ]
  },
  {
   "cell_type": "markdown",
   "id": "c25948aa-2341-4c55-bc37-887d277810d2",
   "metadata": {},
   "source": [
    "Дуальные числа объединяют вращение и трансляцию в единую алгебраическую структуру. И, тем самым, поддерживают удобный аппарат для композиции винтовых движений. Исходя из этого, могут быть особенно полезны в задачах, требующих высокой вычислительной устойчивости.\n",
    "\n",
    "Ниже приведена реализация класса на языке Python для поддержики функционала дуальных чисел."
   ]
  },
  {
   "cell_type": "code",
   "execution_count": 2,
   "id": "c1ade2bb-ec67-46fa-b9d8-70cc9a713356",
   "metadata": {},
   "outputs": [],
   "source": [
    "class DualNumber:\n",
    "    def __init__(self, real, dual=0):\n",
    "        self.real = real\n",
    "        self.dual = dual\n",
    "    \n",
    "    def __add__(self, other):\n",
    "        return DualNumber(self.real + other.real, self.dual + other.dual)\n",
    "    \n",
    "    def __mul__(self, other):\n",
    "        return DualNumber(\n",
    "            self.real * other.real,\n",
    "            self.real * other.dual + self.dual * other.real\n",
    "        )\n",
    "    \n",
    "    def sin(self):\n",
    "        return DualNumber(np.sin(self.real), self.dual * np.cos(self.real))\n",
    "    \n",
    "    def cos(self):\n",
    "        return DualNumber(np.cos(self.real), -self.dual * np.sin(self.real))\n"
   ]
  },
  {
   "cell_type": "markdown",
   "id": "b9dfc5f8-99d6-44df-8f98-a0121695ba08",
   "metadata": {},
   "source": [
    "Ниже приведена реализация функции поворота Родрига с дуальным компонентом (бикватернионы)\n",
    "\n",
    "Исходную формулу можно представить как:\n",
    "$$ \\vec{v}_{rot} = \\vec{v}\\cos{\\theta} + (\\vec{a} \\times \\vec{v})\\sin{\\theta} + \\vec{a}(\\vec{a}\\cdot\\vec{v}))(1-\\cos{\\theta}) $$"
   ]
  },
  {
   "cell_type": "code",
   "execution_count": 3,
   "id": "86e34f13-a962-4518-9ab6-87d8dc6670f9",
   "metadata": {},
   "outputs": [],
   "source": [
    "def rodrigues_rotation(v: np.ndarray, a: np.ndarray, theta_dual: DualNumber) -> np.ndarray:\n",
    "    \"\"\"    \n",
    "    Params:\n",
    "        v (np.ndarray): Vector for rotation \n",
    "        a (np.ndarray): Unit vector of the rotation axis\n",
    "        theta_dual (DualNumber): Dual representation of the rotation angle\n",
    "    \n",
    "    Returns:\n",
    "        np.ndarray: Screw\n",
    "    \"\"\"\n",
    "    \n",
    "    a /= np.linalg.norm(a)\n",
    "    \n",
    "    v_rot = v * np.cos(theta_dual.real) + np.cross(a, v) * np.sin(theta_dual.real) + a * np.dot(a, v) * (1 - np.cos(theta_dual.real))\n",
    "    v_screw = v_rot + theta_dual.dual * a\n",
    "\n",
    "    return v_screw"
   ]
  },
  {
   "cell_type": "markdown",
   "id": "ff401c1a-7222-434a-97d2-d5ca85714adc",
   "metadata": {},
   "source": [
    "Также приведем интерактивную визуализацию винтового движения"
   ]
  },
  {
   "cell_type": "code",
   "execution_count": 4,
   "id": "ca35d88f-2b35-493d-8491-6cd946ed0841",
   "metadata": {},
   "outputs": [],
   "source": [
    "def plot_interactive_rodrigues(\n",
    "    theta: float = np.pi/2, \n",
    "    theta_dual: float = 1.0, \n",
    "    a_x: float = .0, \n",
    "    a_y: float = .0, \n",
    "    a_z: float = 1.0,\n",
    "    v_x: float = 1.0,\n",
    "    v_y: float = .0,\n",
    "    v_z: float = .0,\n",
    "):\n",
    "    fig = plt.figure(figsize=(10, 8))\n",
    "    ax = fig.add_subplot(111, projection='3d')\n",
    "    \n",
    "    v = np.array([v_x, v_y, v_z]) \n",
    "    a = np.array([a_x, a_y, a_z])  \n",
    "    \n",
    "    v_screw = rodrigues_rotation(v, a, DualNumber(theta, theta_dual))\n",
    "    \n",
    "    ax.quiver(0, 0, 0, a[0], a[1], a[2], color='k', linestyle='dashed', label='Ось вращения', arrow_length_ratio=0)\n",
    "    ax.quiver(0, 0, 0, v_screw[0], v_screw[1], v_screw[2], color='b', label='Винтовое движение', arrow_length_ratio=0)\n",
    "\n",
    "    ax.set_xlim([-2, 2])\n",
    "    ax.set_ylim([-2, 2])\n",
    "    ax.set_zlim([-2, 2])\n",
    "    ax.set_xlabel('X')\n",
    "    ax.set_ylabel('Y')\n",
    "    ax.set_zlabel('Z')\n",
    "    ax.legend()\n",
    "    plt.title(f'Винтовое движение: θ={theta:.2f} рад, θ_dual={theta_dual:.2f}, ось=({a_x:.1f}, {a_y:.1f}, {a_z:.1f})')\n",
    "    plt.show()"
   ]
  },
  {
   "cell_type": "code",
   "execution_count": 5,
   "id": "8a99f581-3021-4b8b-8bb0-d6674bf3bcce",
   "metadata": {},
   "outputs": [
    {
     "data": {
      "application/vnd.jupyter.widget-view+json": {
       "model_id": "e6c196fbc2ad4d129551eee2b9e5da5f",
       "version_major": 2,
       "version_minor": 0
      },
      "text/plain": [
       "interactive(children=(FloatSlider(value=1.5707963267948966, description='θ (рад):', max=6.283185307179586), Fl…"
      ]
     },
     "metadata": {},
     "output_type": "display_data"
    },
    {
     "data": {
      "text/plain": [
       "<function __main__.plot_interactive_rodrigues(theta: float = 1.5707963267948966, theta_dual: float = 1.0, a_x: float = 0.0, a_y: float = 0.0, a_z: float = 1.0, v_x: float = 1.0, v_y: float = 0.0, v_z: float = 0.0)>"
      ]
     },
     "execution_count": 5,
     "metadata": {},
     "output_type": "execute_result"
    }
   ],
   "source": [
    "theta_slider = FloatSlider(min=0, max=2*np.pi, step=0.1, value=np.pi/2, description='θ (рад):')\n",
    "theta_dual_slider = FloatSlider(min=0, max=2, step=0.1, value=1.0, description='Смещение θ_dual (рад):')\n",
    "a_x_slider = FloatSlider(min=-1, max=1, step=0.1, value=0.0, description='Ось a_x:')\n",
    "a_y_slider = FloatSlider(min=-1, max=1, step=0.1, value=0.0, description='Ось a_y:')\n",
    "a_z_slider = FloatSlider(min=-1, max=1, step=0.1, value=1.0, description='Ось a_z:')\n",
    "\n",
    "interact(\n",
    "    plot_interactive_rodrigues,\n",
    "    theta=theta_slider,\n",
    "    theta_dual=theta_dual_slider,\n",
    "    a_x=a_x_slider,\n",
    "    a_y=a_y_slider,\n",
    "    a_z=a_z_slider\n",
    ")"
   ]
  },
  {
   "cell_type": "markdown",
   "id": "db10550f-8bfd-40f0-8741-9cad07f0f097",
   "metadata": {},
   "source": [
    "Параметры Родрига-Гамильтона тесно связаны с кватернионами и задаются в виде:\n",
    "$$ Q = \\lambda_{0} + \\lambda_{1}i + \\lambda_{2}j + \\lambda_{3}k, \\text{где}$$\n",
    "$$\\lambda_{0}=(\\lambda_{1},\\lambda_{2},\\lambda_{3})=a\\sin(\\theta/2) - \\text{векторная часть}$$\n",
    "$$a - \\text{единичный вектор оси вращения}$$\n",
    "$$\\theta - \\text{угол поворота}$$\n",
    "\n",
    "Данный подход основывается на кватернионах и обеспечивают компактное представление поворота и смещения. Также параметры Родрига-Гамильтона эффективны для последовательных вращений и интерполяции движений."
   ]
  },
  {
   "cell_type": "code",
   "execution_count": 6,
   "id": "2c0474eb-399b-44ec-86c3-184c43973b6f",
   "metadata": {},
   "outputs": [],
   "source": [
    "class Quaternion:\n",
    "    def __init__(self, lambda_0: float, lambda_1: float, lambda_2: float, lambda_3: float):\n",
    "        self.l_0 = lambda_0 \n",
    "        self.l_1 = lambda_1\n",
    "        self.l_2 = lambda_2\n",
    "        self.l_3 = lambda_3\n",
    "    \n",
    "    def normalize(self):\n",
    "        norm = np.sqrt(self.l_0**2 + self.l_1**2 + self.l_2**2 + self.l_3**2)\n",
    "        return Quaternion(self.l_0 / norm, self.l_1 / norm, self.l_2 / norm, self.l_3 / norm)\n",
    "    \n",
    "    def to_rotation_matrix(self):\n",
    "        return np.array([\n",
    "            [1 - 2*self.l_2**2 - 2*self.l_3**2,          2*self.l_1*self.l_2 - 2*self.l_3*self.l_0,       2*self.l_1*self.l_3 + 2*self.l_2*self.l_0],\n",
    "            [2*self.l_1*self.l_2 + 2*self.l_3*self.l_0,  1 - 2*self.l_1**2 - 2*self.l_3**2,               2*self.l_2*self.l_3 - 2*self.l_1*self.l_0],\n",
    "            [2*self.l_1*self.l_3 - 2*self.l_2*self.l_0,  2*self.l_2*self.l_3 + 2*self.l_1*self.l_0,       1 - 2*self.l_1**2 - 2*self.l_2**2]\n",
    "        ])\n",
    "    \n",
    "    def rotate_vector(self, v):\n",
    "        rot_mat = self.to_rotation_matrix()\n",
    "        return rot_mat @ v"
   ]
  },
  {
   "cell_type": "code",
   "execution_count": 7,
   "id": "9657424d-e1a2-4c7d-91f4-ae10aeab1d51",
   "metadata": {},
   "outputs": [],
   "source": [
    "def rodrigues_hamilton_rotation(v: np.ndarray, a: np.ndarray, theta: float, d: float) -> np.ndarray:\n",
    "    \"\"\"    \n",
    "    Параметры:\n",
    "        v (np.ndarray): Вектор для поворота\n",
    "        a (np.ndarray): Единичный вектор оси\n",
    "        theta (float): Угол поворота (рад.)\n",
    "        d (float): Величина смещения вдоль оси\n",
    "    \n",
    "    Returns:\n",
    "        np.ndarray: Винт\n",
    "    \"\"\"\n",
    "    a /= np.linalg.norm(a) \n",
    "    lambda_0 = np.cos(theta / 2)\n",
    "    lambda_vec = a * np.sin(theta / 2)\n",
    "    \n",
    "    q = Quaternion(lambda_0, *lambda_vec).normalize()\n",
    "    v_rot = q.rotate_vector(v)\n",
    "\n",
    "    v_screw = v_rot + d * a\n",
    "    return v_screw"
   ]
  },
  {
   "cell_type": "markdown",
   "id": "f0d15a84-5326-4e04-bf54-cffdf6534f26",
   "metadata": {},
   "source": [
    "Также приведем интерактивную визуализацию винтового движения"
   ]
  },
  {
   "cell_type": "code",
   "execution_count": 8,
   "id": "5d93d845-d05c-439b-bf7b-85fe194002d8",
   "metadata": {},
   "outputs": [],
   "source": [
    "def plot_interactive_rodrigues_hamilton(\n",
    "    theta: float = np.pi/2, \n",
    "    d: float = 1.0, \n",
    "    a_x: float = .0, \n",
    "    a_y: float = .0, \n",
    "    a_z: float = 1.0,\n",
    "    v_x: float = 1.0,\n",
    "    v_y: float = .0,\n",
    "    v_z: float = .0,\n",
    "):\n",
    "    fig = plt.figure(figsize=(10, 8))\n",
    "    ax = fig.add_subplot(111, projection='3d')\n",
    "    \n",
    "    v = np.array([v_x, v_y, v_z]) \n",
    "    a = np.array([a_x, a_y, a_z])  \n",
    "    \n",
    "    v_screw = rodrigues_hamilton_rotation(v, a, theta, d)\n",
    "    \n",
    "    ax.quiver(0, 0, 0, a[0], a[1], a[2], color='k', linestyle='dashed', label='Ось вращения', arrow_length_ratio=0)\n",
    "    ax.quiver(0, 0, 0, v_screw[0], v_screw[1], v_screw[2], color='b', label='Винтовое движение', arrow_length_ratio=0)\n",
    "\n",
    "    ax.set_xlim([-2, 2])\n",
    "    ax.set_ylim([-2, 2])\n",
    "    ax.set_zlim([-2, 2])\n",
    "    ax.set_xlabel('X')\n",
    "    ax.set_ylabel('Y')\n",
    "    ax.set_zlabel('Z')\n",
    "    ax.legend()\n",
    "    plt.title(f'Винтовое движение: θ={theta:.2f} рад, d={d:.2f}, ось=({a_x:.1f}, {a_y:.1f}, {a_z:.1f})')\n",
    "    plt.show()"
   ]
  },
  {
   "cell_type": "code",
   "execution_count": 9,
   "id": "33c49131-dd14-4daf-9f63-8af2a004f1fc",
   "metadata": {},
   "outputs": [
    {
     "data": {
      "application/vnd.jupyter.widget-view+json": {
       "model_id": "26d5a223c7544d78ab242c7ff1af836e",
       "version_major": 2,
       "version_minor": 0
      },
      "text/plain": [
       "interactive(children=(FloatSlider(value=1.5707963267948966, description='θ (рад):', max=6.283185307179586), Fl…"
      ]
     },
     "metadata": {},
     "output_type": "display_data"
    },
    {
     "data": {
      "text/plain": [
       "<function __main__.plot_interactive_rodrigues_hamilton(theta: float = 1.5707963267948966, d: float = 1.0, a_x: float = 0.0, a_y: float = 0.0, a_z: float = 1.0, v_x: float = 1.0, v_y: float = 0.0, v_z: float = 0.0)>"
      ]
     },
     "execution_count": 9,
     "metadata": {},
     "output_type": "execute_result"
    }
   ],
   "source": [
    "theta_slider = FloatSlider(min=0, max=2*np.pi, step=0.1, value=np.pi/2, description='θ (рад):')\n",
    "d_slider = FloatSlider(min=0, max=2, step=0.1, value=1.0, description='Смещение:')\n",
    "a_x_slider = FloatSlider(min=-1, max=1, step=0.1, value=0.0, description='Ось a_x:')\n",
    "a_y_slider = FloatSlider(min=-1, max=1, step=0.1, value=0.0, description='Ось a_y:')\n",
    "a_z_slider = FloatSlider(min=-1, max=1, step=0.1, value=1.0, description='Ось a_z:')\n",
    "\n",
    "interact(\n",
    "    plot_interactive_rodrigues_hamilton,\n",
    "    theta=theta_slider,\n",
    "    d=d_slider,\n",
    "    a_x=a_x_slider,\n",
    "    a_y=a_y_slider,\n",
    "    a_z=a_z_slider\n",
    ")"
   ]
  },
  {
   "cell_type": "markdown",
   "id": "534573c6-a861-475b-83d2-665c23273ecb",
   "metadata": {},
   "source": [
    "Сравнивая два подхода, можно прийти к следующим выводам:\n",
    "- Бикватернионы удобнее для композиции сложных движений.\n",
    "- Оба метода дают идентичные результаты, но бикватернионы менее чувствительны к накоплению ошибок.\n",
    "- Параметры Родрига-Гамильтона требуют меньше вычислений для одиночных преобразований."
   ]
  },
  {
   "cell_type": "markdown",
   "id": "3a0d3e47-96ff-42d4-bed4-0a3009975a5a",
   "metadata": {},
   "source": [
    "**Заключение**\n",
    "\n",
    "В работе систематизированы математические основы винтового движения и реализованы вычислительные примеры на Python с использованием параметров Родрига-Гамильтона и бикватернионов. \n",
    "\n",
    "В результате были получены следующие выводы:\n",
    "\n",
    "- Параметры Родрига-Гамильтона предпочтительны для задач с малым числом преобразований, где важна простота реализации.\n",
    "- Бикватернионы эффективны для сложных цепочек движений, требующих высокой устойчивости.\n",
    "\n",
    "Полученные результаты исследования могут быть использованы:\n",
    "\n",
    "- В учебном процессе для демонстрации принципов винтового движения.\n",
    "- В робототехнике для повышения точности управления манипуляторам.\n",
    "- В компьютерной графике для создания реалистичной анимации."
   ]
  },
  {
   "cell_type": "code",
   "execution_count": null,
   "id": "01efb99d-0edb-4309-9101-951e073310c6",
   "metadata": {},
   "outputs": [],
   "source": []
  }
 ],
 "metadata": {
  "kernelspec": {
   "display_name": "Python 3 (ipykernel)",
   "language": "python",
   "name": "python3"
  },
  "language_info": {
   "codemirror_mode": {
    "name": "ipython",
    "version": 3
   },
   "file_extension": ".py",
   "mimetype": "text/x-python",
   "name": "python",
   "nbconvert_exporter": "python",
   "pygments_lexer": "ipython3",
   "version": "3.10.4"
  }
 },
 "nbformat": 4,
 "nbformat_minor": 5
}
